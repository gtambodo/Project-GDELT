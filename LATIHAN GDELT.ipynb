{
 "cells": [
  {
   "cell_type": "code",
   "execution_count": 1,
   "metadata": {},
   "outputs": [],
   "source": [
    "#ENGINE DATA \n",
    "import pymysql\n",
    "import pandas as pd\n",
    "from sqlalchemy import create_engine\n",
    "\n",
    "host = 'localhost'\n",
    "port = '3306'\n",
    "username = 'root'\n",
    "password = ''\n",
    "database = 'classicmodels'\n",
    "\n",
    "#connecting \n",
    "engine = create_engine ('mysql+pymysql://'+username+':'+password+'@'+host+':'+port+'/'+database )\n",
    "#  engine= create_engine('mysql+pymysql://root: @localhost:3306/academic')\n",
    "\n",
    "def run (sql):\n",
    "    df = pd.read_sql_query(sql, engine)\n",
    "    return df\n"
   ]
  },
  {
   "cell_type": "code",
   "execution_count": null,
   "metadata": {},
   "outputs": [],
   "source": [
    "#CONVERT CSV TO SQL\n",
    "df_fromcsv = pd.read_csv('20181028.export.csv')\n",
    "df_fromcsv.to_sql(name= 'GDELT', con = engine, if_exists= 'append', index = False)"
   ]
  }
 ],
 "metadata": {
  "kernelspec": {
   "display_name": "Python 3",
   "language": "python",
   "name": "python3"
  },
  "language_info": {
   "codemirror_mode": {
    "name": "ipython",
    "version": 3
   },
   "file_extension": ".py",
   "mimetype": "text/x-python",
   "name": "python",
   "nbconvert_exporter": "python",
   "pygments_lexer": "ipython3",
   "version": "3.7.0"
  }
 },
 "nbformat": 4,
 "nbformat_minor": 2
}
